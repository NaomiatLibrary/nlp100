{
 "cells": [
  {
   "cell_type": "code",
   "execution_count": 4,
   "metadata": {},
   "outputs": [
    {
     "data": {
      "text/plain": [
       "'desserts'"
      ]
     },
     "execution_count": 4,
     "metadata": {},
     "output_type": "execute_result"
    }
   ],
   "source": [
    "''.join(list(reversed(\"stressed\")))"
   ]
  },
  {
   "cell_type": "code",
   "execution_count": 6,
   "metadata": {},
   "outputs": [
    {
     "data": {
      "text/plain": [
       "'パトカー'"
      ]
     },
     "execution_count": 6,
     "metadata": {},
     "output_type": "execute_result"
    }
   ],
   "source": [
    "''.join(list('パタトクカシーー')[::2])"
   ]
  },
  {
   "cell_type": "code",
   "execution_count": 41,
   "metadata": {},
   "outputs": [
    {
     "data": {
      "text/plain": [
       "'パタトクカシーー'"
      ]
     },
     "execution_count": 41,
     "metadata": {},
     "output_type": "execute_result"
    }
   ],
   "source": [
    "''.join([''.join(s) for s in [*zip(\"パトカー\",\"タクシー\")]])"
   ]
  },
  {
   "cell_type": "code",
   "execution_count": 43,
   "metadata": {},
   "outputs": [
    {
     "data": {
      "text/plain": [
       "['N', 'I', 'n', 'a', 'd', 'a', 'o', 'c', 'a', 't', 'h', 'l', 'i', 'q', 'm']"
      ]
     },
     "execution_count": 43,
     "metadata": {},
     "output_type": "execute_result"
    }
   ],
   "source": [
    "string=\"Now I need a drink, alcoholic of course, after the heavy lectures involving quantum mechanics.\"\n",
    "[ s[0] for s in string.split()]"
   ]
  },
  {
   "cell_type": "code",
   "execution_count": 45,
   "metadata": {},
   "outputs": [
    {
     "name": "stdout",
     "output_type": "stream",
     "text": [
      "{'H': 1, 'He': 2, 'Li': 3, 'Be': 4, 'B': 5, 'C': 6, 'N': 7, 'O': 8, 'F': 9, 'Ne': 10, 'Na': 11, 'Mi': 12, 'Al': 13, 'Si': 14, 'P': 15, 'S': 16, 'Cl': 17, 'Ar': 18, 'K': 19, 'Ca': 20}\n"
     ]
    }
   ],
   "source": [
    "string=\"Hi He Lied Because Boron Could Not Oxidize Fluorine. New Nations Might Also Sign Peace Security Clause. Arthur King Can.\"\n",
    "one=[1, 5, 6, 7, 8, 9, 15, 16, 19]\n",
    "strlist=string.split()\n",
    "dic={}\n",
    "for i in range(len(strlist)):\n",
    "    dic[strlist[i][0] if i+1 in one else strlist[i][:2]] = i+1\n",
    "print(dic)"
   ]
  },
  {
   "cell_type": "code",
   "execution_count": 48,
   "metadata": {},
   "outputs": [
    {
     "name": "stdout",
     "output_type": "stream",
     "text": [
      "['Iam', 'aman', 'anNLPer']\n",
      "['Ia', 'am', 'ma', 'an', 'nN', 'NL', 'LP', 'Pe', 'er']\n"
     ]
    }
   ],
   "source": [
    "def n_gram(n,strlist):\n",
    "    ret=[]\n",
    "    for i in range(len(strlist)-n+1):\n",
    "        ret.append(''.join(strlist[i:i+n]))\n",
    "    return ret\n",
    "string=\"I am an NLPer\"\n",
    "print(n_gram(2,string.split()))\n",
    "print(n_gram(2,list(string.replace(' ',''))))"
   ]
  },
  {
   "cell_type": "code",
   "execution_count": 54,
   "metadata": {},
   "outputs": [
    {
     "name": "stdout",
     "output_type": "stream",
     "text": [
      "{'pa', 'se', 'ag', 'ra', 'ad', 'gr', 'ap', 'ar', 'di', 'ph', 'is'}\n",
      "{'ra', 'pa', 'ap', 'ar'}\n",
      "{'ad', 'di', 'se', 'is'}\n",
      "True\n",
      "False\n"
     ]
    }
   ],
   "source": [
    "X=set(n_gram(2,list(\"paraparaparadise\")))\n",
    "Y=set(n_gram(2,list(\"paragraph\")))\n",
    "print(X.union(Y))\n",
    "print(X.intersection(Y))\n",
    "print(X.difference(Y))\n",
    "print('se' in X)\n",
    "print('se' in Y)"
   ]
  },
  {
   "cell_type": "code",
   "execution_count": 57,
   "metadata": {},
   "outputs": [
    {
     "name": "stdout",
     "output_type": "stream",
     "text": [
      "12時の気温は22.4\n"
     ]
    }
   ],
   "source": [
    "def xyz(x,y,z):\n",
    "    return str(x)+\"時の\"+str(y)+\"は\"+str(z)\n",
    "print(xyz(x=12, y=\"気温\", z=22.4))"
   ]
  },
  {
   "cell_type": "code",
   "execution_count": 79,
   "metadata": {},
   "outputs": [
    {
     "name": "stdout",
     "output_type": "stream",
     "text": [
      "I szev 3 zkkovh zmw 10 lizmtvS.\n",
      "I have 3 apples and 10 orangeS.\n"
     ]
    }
   ],
   "source": [
    "def cipher(string):\n",
    "    ret=\"\"\n",
    "    for c in string:\n",
    "        if ord(c) in range(97, 97+26):\n",
    "            ret+=chr(219-ord(c))\n",
    "        else:\n",
    "            ret+=c\n",
    "    return ret\n",
    "def decrypt(string):\n",
    "    ret=\"\"\n",
    "    for c in string:\n",
    "        if ord(c) in range(219-97-26+1, 219-97+1):\n",
    "            ret+=chr(219-ord(c))\n",
    "        else:\n",
    "            ret+=c\n",
    "    return ret\n",
    "print(cipher(\"I have 3 apples and 10 orangeS.\"))\n",
    "print(decrypt(cipher(\"I have 3 apples and 10 orangeS.\")))"
   ]
  },
  {
   "cell_type": "code",
   "execution_count": 85,
   "metadata": {},
   "outputs": [
    {
     "data": {
      "text/plain": [
       "'I cu’ndlot bvieele that I cuold aulltcay unstraednd what I was raideng : the ponhmaeenl poewr of the haumn mind .'"
      ]
     },
     "execution_count": 85,
     "metadata": {},
     "output_type": "execute_result"
    }
   ],
   "source": [
    "import random\n",
    "def shuffle_string(string):\n",
    "    strs=string.split()\n",
    "    for i in range(len(strs)):\n",
    "        if len(strs[i])>4:\n",
    "            chlist=list(strs[i][1:-1])\n",
    "            random.shuffle(chlist)\n",
    "            strs[i]=strs[i][0]+''.join(chlist)+strs[i][-1]\n",
    "    return \" \".join(strs)\n",
    "shuffle_string(\"I couldn’t believe that I could actually understand what I was reading : the phenomenal power of the human mind .\")"
   ]
  },
  {
   "cell_type": "code",
   "execution_count": null,
   "metadata": {},
   "outputs": [],
   "source": []
  }
 ],
 "metadata": {
  "kernelspec": {
   "display_name": "Python 3",
   "language": "python",
   "name": "python3"
  },
  "language_info": {
   "codemirror_mode": {
    "name": "ipython",
    "version": 3
   },
   "file_extension": ".py",
   "mimetype": "text/x-python",
   "name": "python",
   "nbconvert_exporter": "python",
   "pygments_lexer": "ipython3",
   "version": "3.7.2"
  }
 },
 "nbformat": 4,
 "nbformat_minor": 2
}
